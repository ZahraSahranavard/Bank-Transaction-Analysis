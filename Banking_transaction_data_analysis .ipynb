{
  "nbformat": 4,
  "nbformat_minor": 0,
  "metadata": {
    "colab": {
      "provenance": []
    },
    "kernelspec": {
      "name": "python3",
      "display_name": "Python 3"
    },
    "language_info": {
      "name": "python"
    }
  },
  "cells": [
    {
      "cell_type": "markdown",
      "source": [
        "# Tools"
      ],
      "metadata": {
        "id": "lRfCYT6CQ8vE"
      }
    },
    {
      "cell_type": "code",
      "source": [
        "import pandas as pd\n",
        "import matplotlib.pyplot as plt\n",
        "import jdatetime"
      ],
      "metadata": {
        "id": "sKD8YX2zRAKC"
      },
      "execution_count": 81,
      "outputs": []
    },
    {
      "cell_type": "markdown",
      "source": [
        "# Dataset"
      ],
      "metadata": {
        "id": "xLjfruWGRE1b"
      }
    },
    {
      "cell_type": "code",
      "source": [
        "df = pd.read_csv(\"https://drive.google.com/uc?id=16Lc2GSNvvYXvnAHYGAOfv-Ed2o-rh_uO\")"
      ],
      "metadata": {
        "id": "GSH_vVfaP_Aw"
      },
      "execution_count": 82,
      "outputs": []
    },
    {
      "cell_type": "code",
      "source": [
        "df.head()"
      ],
      "metadata": {
        "colab": {
          "base_uri": "https://localhost:8080/",
          "height": 206
        },
        "id": "qZta9NFdQ3Tt",
        "outputId": "83b782f5-a069-4852-d41c-23b5ce1987c3"
      },
      "execution_count": 83,
      "outputs": [
        {
          "output_type": "execute_result",
          "data": {
            "text/plain": [
              "   user_id  transaction_id transaction_date transaction_time  \\\n",
              "0        1               1       1403-01-01         23:38:58   \n",
              "1        1               2       1403-01-02         16:41:29   \n",
              "2        1               3       1403-01-03         07:45:32   \n",
              "3        1               3       1403-01-03         07:45:32   \n",
              "4        1               4       1403-01-04         15:22:12   \n",
              "\n",
              "               store                  product_name  quantity  unit_price  \\\n",
              "0      Jewelry Store      Jewelry Store Product 38         1  1658456.89   \n",
              "1  Electronics Store  Electronics Store Product 82         1  1462060.36   \n",
              "2    Cosmetics Store    Cosmetics Store Product 26         1   105516.10   \n",
              "3    Cosmetics Store    Cosmetics Store Product 17         1   217517.33   \n",
              "4     Hardware Store     Hardware Store Product 40         1  1949500.13   \n",
              "\n",
              "   total_price  total_amount  total_items  \n",
              "0   1658456.89    1658456.89            1  \n",
              "1   1462060.36    1462060.36            1  \n",
              "2    105516.10     323033.43            2  \n",
              "3    217517.33     323033.43            2  \n",
              "4   1949500.13    6191593.89            6  "
            ],
            "text/html": [
              "\n",
              "  <div id=\"df-8987d563-eac8-4d39-a5fc-4e283cc9f374\" class=\"colab-df-container\">\n",
              "    <div>\n",
              "<style scoped>\n",
              "    .dataframe tbody tr th:only-of-type {\n",
              "        vertical-align: middle;\n",
              "    }\n",
              "\n",
              "    .dataframe tbody tr th {\n",
              "        vertical-align: top;\n",
              "    }\n",
              "\n",
              "    .dataframe thead th {\n",
              "        text-align: right;\n",
              "    }\n",
              "</style>\n",
              "<table border=\"1\" class=\"dataframe\">\n",
              "  <thead>\n",
              "    <tr style=\"text-align: right;\">\n",
              "      <th></th>\n",
              "      <th>user_id</th>\n",
              "      <th>transaction_id</th>\n",
              "      <th>transaction_date</th>\n",
              "      <th>transaction_time</th>\n",
              "      <th>store</th>\n",
              "      <th>product_name</th>\n",
              "      <th>quantity</th>\n",
              "      <th>unit_price</th>\n",
              "      <th>total_price</th>\n",
              "      <th>total_amount</th>\n",
              "      <th>total_items</th>\n",
              "    </tr>\n",
              "  </thead>\n",
              "  <tbody>\n",
              "    <tr>\n",
              "      <th>0</th>\n",
              "      <td>1</td>\n",
              "      <td>1</td>\n",
              "      <td>1403-01-01</td>\n",
              "      <td>23:38:58</td>\n",
              "      <td>Jewelry Store</td>\n",
              "      <td>Jewelry Store Product 38</td>\n",
              "      <td>1</td>\n",
              "      <td>1658456.89</td>\n",
              "      <td>1658456.89</td>\n",
              "      <td>1658456.89</td>\n",
              "      <td>1</td>\n",
              "    </tr>\n",
              "    <tr>\n",
              "      <th>1</th>\n",
              "      <td>1</td>\n",
              "      <td>2</td>\n",
              "      <td>1403-01-02</td>\n",
              "      <td>16:41:29</td>\n",
              "      <td>Electronics Store</td>\n",
              "      <td>Electronics Store Product 82</td>\n",
              "      <td>1</td>\n",
              "      <td>1462060.36</td>\n",
              "      <td>1462060.36</td>\n",
              "      <td>1462060.36</td>\n",
              "      <td>1</td>\n",
              "    </tr>\n",
              "    <tr>\n",
              "      <th>2</th>\n",
              "      <td>1</td>\n",
              "      <td>3</td>\n",
              "      <td>1403-01-03</td>\n",
              "      <td>07:45:32</td>\n",
              "      <td>Cosmetics Store</td>\n",
              "      <td>Cosmetics Store Product 26</td>\n",
              "      <td>1</td>\n",
              "      <td>105516.10</td>\n",
              "      <td>105516.10</td>\n",
              "      <td>323033.43</td>\n",
              "      <td>2</td>\n",
              "    </tr>\n",
              "    <tr>\n",
              "      <th>3</th>\n",
              "      <td>1</td>\n",
              "      <td>3</td>\n",
              "      <td>1403-01-03</td>\n",
              "      <td>07:45:32</td>\n",
              "      <td>Cosmetics Store</td>\n",
              "      <td>Cosmetics Store Product 17</td>\n",
              "      <td>1</td>\n",
              "      <td>217517.33</td>\n",
              "      <td>217517.33</td>\n",
              "      <td>323033.43</td>\n",
              "      <td>2</td>\n",
              "    </tr>\n",
              "    <tr>\n",
              "      <th>4</th>\n",
              "      <td>1</td>\n",
              "      <td>4</td>\n",
              "      <td>1403-01-04</td>\n",
              "      <td>15:22:12</td>\n",
              "      <td>Hardware Store</td>\n",
              "      <td>Hardware Store Product 40</td>\n",
              "      <td>1</td>\n",
              "      <td>1949500.13</td>\n",
              "      <td>1949500.13</td>\n",
              "      <td>6191593.89</td>\n",
              "      <td>6</td>\n",
              "    </tr>\n",
              "  </tbody>\n",
              "</table>\n",
              "</div>\n",
              "    <div class=\"colab-df-buttons\">\n",
              "\n",
              "  <div class=\"colab-df-container\">\n",
              "    <button class=\"colab-df-convert\" onclick=\"convertToInteractive('df-8987d563-eac8-4d39-a5fc-4e283cc9f374')\"\n",
              "            title=\"Convert this dataframe to an interactive table.\"\n",
              "            style=\"display:none;\">\n",
              "\n",
              "  <svg xmlns=\"http://www.w3.org/2000/svg\" height=\"24px\" viewBox=\"0 -960 960 960\">\n",
              "    <path d=\"M120-120v-720h720v720H120Zm60-500h600v-160H180v160Zm220 220h160v-160H400v160Zm0 220h160v-160H400v160ZM180-400h160v-160H180v160Zm440 0h160v-160H620v160ZM180-180h160v-160H180v160Zm440 0h160v-160H620v160Z\"/>\n",
              "  </svg>\n",
              "    </button>\n",
              "\n",
              "  <style>\n",
              "    .colab-df-container {\n",
              "      display:flex;\n",
              "      gap: 12px;\n",
              "    }\n",
              "\n",
              "    .colab-df-convert {\n",
              "      background-color: #E8F0FE;\n",
              "      border: none;\n",
              "      border-radius: 50%;\n",
              "      cursor: pointer;\n",
              "      display: none;\n",
              "      fill: #1967D2;\n",
              "      height: 32px;\n",
              "      padding: 0 0 0 0;\n",
              "      width: 32px;\n",
              "    }\n",
              "\n",
              "    .colab-df-convert:hover {\n",
              "      background-color: #E2EBFA;\n",
              "      box-shadow: 0px 1px 2px rgba(60, 64, 67, 0.3), 0px 1px 3px 1px rgba(60, 64, 67, 0.15);\n",
              "      fill: #174EA6;\n",
              "    }\n",
              "\n",
              "    .colab-df-buttons div {\n",
              "      margin-bottom: 4px;\n",
              "    }\n",
              "\n",
              "    [theme=dark] .colab-df-convert {\n",
              "      background-color: #3B4455;\n",
              "      fill: #D2E3FC;\n",
              "    }\n",
              "\n",
              "    [theme=dark] .colab-df-convert:hover {\n",
              "      background-color: #434B5C;\n",
              "      box-shadow: 0px 1px 3px 1px rgba(0, 0, 0, 0.15);\n",
              "      filter: drop-shadow(0px 1px 2px rgba(0, 0, 0, 0.3));\n",
              "      fill: #FFFFFF;\n",
              "    }\n",
              "  </style>\n",
              "\n",
              "    <script>\n",
              "      const buttonEl =\n",
              "        document.querySelector('#df-8987d563-eac8-4d39-a5fc-4e283cc9f374 button.colab-df-convert');\n",
              "      buttonEl.style.display =\n",
              "        google.colab.kernel.accessAllowed ? 'block' : 'none';\n",
              "\n",
              "      async function convertToInteractive(key) {\n",
              "        const element = document.querySelector('#df-8987d563-eac8-4d39-a5fc-4e283cc9f374');\n",
              "        const dataTable =\n",
              "          await google.colab.kernel.invokeFunction('convertToInteractive',\n",
              "                                                    [key], {});\n",
              "        if (!dataTable) return;\n",
              "\n",
              "        const docLinkHtml = 'Like what you see? Visit the ' +\n",
              "          '<a target=\"_blank\" href=https://colab.research.google.com/notebooks/data_table.ipynb>data table notebook</a>'\n",
              "          + ' to learn more about interactive tables.';\n",
              "        element.innerHTML = '';\n",
              "        dataTable['output_type'] = 'display_data';\n",
              "        await google.colab.output.renderOutput(dataTable, element);\n",
              "        const docLink = document.createElement('div');\n",
              "        docLink.innerHTML = docLinkHtml;\n",
              "        element.appendChild(docLink);\n",
              "      }\n",
              "    </script>\n",
              "  </div>\n",
              "\n",
              "\n",
              "<div id=\"df-fad20fc2-35a4-4db7-ad3a-b7fa1707725e\">\n",
              "  <button class=\"colab-df-quickchart\" onclick=\"quickchart('df-fad20fc2-35a4-4db7-ad3a-b7fa1707725e')\"\n",
              "            title=\"Suggest charts\"\n",
              "            style=\"display:none;\">\n",
              "\n",
              "<svg xmlns=\"http://www.w3.org/2000/svg\" height=\"24px\"viewBox=\"0 0 24 24\"\n",
              "     width=\"24px\">\n",
              "    <g>\n",
              "        <path d=\"M19 3H5c-1.1 0-2 .9-2 2v14c0 1.1.9 2 2 2h14c1.1 0 2-.9 2-2V5c0-1.1-.9-2-2-2zM9 17H7v-7h2v7zm4 0h-2V7h2v10zm4 0h-2v-4h2v4z\"/>\n",
              "    </g>\n",
              "</svg>\n",
              "  </button>\n",
              "\n",
              "<style>\n",
              "  .colab-df-quickchart {\n",
              "      --bg-color: #E8F0FE;\n",
              "      --fill-color: #1967D2;\n",
              "      --hover-bg-color: #E2EBFA;\n",
              "      --hover-fill-color: #174EA6;\n",
              "      --disabled-fill-color: #AAA;\n",
              "      --disabled-bg-color: #DDD;\n",
              "  }\n",
              "\n",
              "  [theme=dark] .colab-df-quickchart {\n",
              "      --bg-color: #3B4455;\n",
              "      --fill-color: #D2E3FC;\n",
              "      --hover-bg-color: #434B5C;\n",
              "      --hover-fill-color: #FFFFFF;\n",
              "      --disabled-bg-color: #3B4455;\n",
              "      --disabled-fill-color: #666;\n",
              "  }\n",
              "\n",
              "  .colab-df-quickchart {\n",
              "    background-color: var(--bg-color);\n",
              "    border: none;\n",
              "    border-radius: 50%;\n",
              "    cursor: pointer;\n",
              "    display: none;\n",
              "    fill: var(--fill-color);\n",
              "    height: 32px;\n",
              "    padding: 0;\n",
              "    width: 32px;\n",
              "  }\n",
              "\n",
              "  .colab-df-quickchart:hover {\n",
              "    background-color: var(--hover-bg-color);\n",
              "    box-shadow: 0 1px 2px rgba(60, 64, 67, 0.3), 0 1px 3px 1px rgba(60, 64, 67, 0.15);\n",
              "    fill: var(--button-hover-fill-color);\n",
              "  }\n",
              "\n",
              "  .colab-df-quickchart-complete:disabled,\n",
              "  .colab-df-quickchart-complete:disabled:hover {\n",
              "    background-color: var(--disabled-bg-color);\n",
              "    fill: var(--disabled-fill-color);\n",
              "    box-shadow: none;\n",
              "  }\n",
              "\n",
              "  .colab-df-spinner {\n",
              "    border: 2px solid var(--fill-color);\n",
              "    border-color: transparent;\n",
              "    border-bottom-color: var(--fill-color);\n",
              "    animation:\n",
              "      spin 1s steps(1) infinite;\n",
              "  }\n",
              "\n",
              "  @keyframes spin {\n",
              "    0% {\n",
              "      border-color: transparent;\n",
              "      border-bottom-color: var(--fill-color);\n",
              "      border-left-color: var(--fill-color);\n",
              "    }\n",
              "    20% {\n",
              "      border-color: transparent;\n",
              "      border-left-color: var(--fill-color);\n",
              "      border-top-color: var(--fill-color);\n",
              "    }\n",
              "    30% {\n",
              "      border-color: transparent;\n",
              "      border-left-color: var(--fill-color);\n",
              "      border-top-color: var(--fill-color);\n",
              "      border-right-color: var(--fill-color);\n",
              "    }\n",
              "    40% {\n",
              "      border-color: transparent;\n",
              "      border-right-color: var(--fill-color);\n",
              "      border-top-color: var(--fill-color);\n",
              "    }\n",
              "    60% {\n",
              "      border-color: transparent;\n",
              "      border-right-color: var(--fill-color);\n",
              "    }\n",
              "    80% {\n",
              "      border-color: transparent;\n",
              "      border-right-color: var(--fill-color);\n",
              "      border-bottom-color: var(--fill-color);\n",
              "    }\n",
              "    90% {\n",
              "      border-color: transparent;\n",
              "      border-bottom-color: var(--fill-color);\n",
              "    }\n",
              "  }\n",
              "</style>\n",
              "\n",
              "  <script>\n",
              "    async function quickchart(key) {\n",
              "      const quickchartButtonEl =\n",
              "        document.querySelector('#' + key + ' button');\n",
              "      quickchartButtonEl.disabled = true;  // To prevent multiple clicks.\n",
              "      quickchartButtonEl.classList.add('colab-df-spinner');\n",
              "      try {\n",
              "        const charts = await google.colab.kernel.invokeFunction(\n",
              "            'suggestCharts', [key], {});\n",
              "      } catch (error) {\n",
              "        console.error('Error during call to suggestCharts:', error);\n",
              "      }\n",
              "      quickchartButtonEl.classList.remove('colab-df-spinner');\n",
              "      quickchartButtonEl.classList.add('colab-df-quickchart-complete');\n",
              "    }\n",
              "    (() => {\n",
              "      let quickchartButtonEl =\n",
              "        document.querySelector('#df-fad20fc2-35a4-4db7-ad3a-b7fa1707725e button');\n",
              "      quickchartButtonEl.style.display =\n",
              "        google.colab.kernel.accessAllowed ? 'block' : 'none';\n",
              "    })();\n",
              "  </script>\n",
              "</div>\n",
              "\n",
              "    </div>\n",
              "  </div>\n"
            ],
            "application/vnd.google.colaboratory.intrinsic+json": {
              "type": "dataframe",
              "variable_name": "df",
              "summary": "{\n  \"name\": \"df\",\n  \"rows\": 8192,\n  \"fields\": [\n    {\n      \"column\": \"user_id\",\n      \"properties\": {\n        \"dtype\": \"number\",\n        \"std\": 3,\n        \"min\": 1,\n        \"max\": 12,\n        \"num_unique_values\": 12,\n        \"samples\": [\n          11,\n          10,\n          1\n        ],\n        \"semantic_type\": \"\",\n        \"description\": \"\"\n      }\n    },\n    {\n      \"column\": \"transaction_id\",\n      \"properties\": {\n        \"dtype\": \"number\",\n        \"std\": 93,\n        \"min\": 1,\n        \"max\": 348,\n        \"num_unique_values\": 348,\n        \"samples\": [\n          256,\n          115,\n          315\n        ],\n        \"semantic_type\": \"\",\n        \"description\": \"\"\n      }\n    },\n    {\n      \"column\": \"transaction_date\",\n      \"properties\": {\n        \"dtype\": \"category\",\n        \"num_unique_values\": 215,\n        \"samples\": [\n          \"1403-07-22\",\n          \"1403-02-04\",\n          \"1403-07-04\"\n        ],\n        \"semantic_type\": \"\",\n        \"description\": \"\"\n      }\n    },\n    {\n      \"column\": \"transaction_time\",\n      \"properties\": {\n        \"dtype\": \"object\",\n        \"num_unique_values\": 3762,\n        \"samples\": [\n          \"21:27:34\",\n          \"22:02:17\",\n          \"20:19:33\"\n        ],\n        \"semantic_type\": \"\",\n        \"description\": \"\"\n      }\n    },\n    {\n      \"column\": \"store\",\n      \"properties\": {\n        \"dtype\": \"category\",\n        \"num_unique_values\": 15,\n        \"samples\": [\n          \"Supermarket\",\n          \"Furniture Store\",\n          \"Jewelry Store\"\n        ],\n        \"semantic_type\": \"\",\n        \"description\": \"\"\n      }\n    },\n    {\n      \"column\": \"product_name\",\n      \"properties\": {\n        \"dtype\": \"category\",\n        \"num_unique_values\": 1446,\n        \"samples\": [\n          \"Electronics Store Product 65\",\n          \"Florist Store Product 36\",\n          \"Chain Store Product 180\"\n        ],\n        \"semantic_type\": \"\",\n        \"description\": \"\"\n      }\n    },\n    {\n      \"column\": \"quantity\",\n      \"properties\": {\n        \"dtype\": \"number\",\n        \"std\": 3,\n        \"min\": 1,\n        \"max\": 48,\n        \"num_unique_values\": 44,\n        \"samples\": [\n          37,\n          19,\n          45\n        ],\n        \"semantic_type\": \"\",\n        \"description\": \"\"\n      }\n    },\n    {\n      \"column\": \"unit_price\",\n      \"properties\": {\n        \"dtype\": \"number\",\n        \"std\": 6191959.213268399,\n        \"min\": 5013.1,\n        \"max\": 49994509.86,\n        \"num_unique_values\": 8192,\n        \"samples\": [\n          175696.92,\n          867110.23,\n          41700.16\n        ],\n        \"semantic_type\": \"\",\n        \"description\": \"\"\n      }\n    },\n    {\n      \"column\": \"total_price\",\n      \"properties\": {\n        \"dtype\": \"number\",\n        \"std\": 9584928.924576974,\n        \"min\": 5035.48,\n        \"max\": 140641114.2,\n        \"num_unique_values\": 8192,\n        \"samples\": [\n          527090.76,\n          867110.23,\n          41700.16\n        ],\n        \"semantic_type\": \"\",\n        \"description\": \"\"\n      }\n    },\n    {\n      \"column\": \"total_amount\",\n      \"properties\": {\n        \"dtype\": \"number\",\n        \"std\": 13930222.221078856,\n        \"min\": 7839.93,\n        \"max\": 140641114.2,\n        \"num_unique_values\": 3842,\n        \"samples\": [\n          2028671.58,\n          283266.19,\n          1790669.53\n        ],\n        \"semantic_type\": \"\",\n        \"description\": \"\"\n      }\n    },\n    {\n      \"column\": \"total_items\",\n      \"properties\": {\n        \"dtype\": \"number\",\n        \"std\": 9,\n        \"min\": 1,\n        \"max\": 50,\n        \"num_unique_values\": 50,\n        \"samples\": [\n          9,\n          45,\n          37\n        ],\n        \"semantic_type\": \"\",\n        \"description\": \"\"\n      }\n    }\n  ]\n}"
            }
          },
          "metadata": {},
          "execution_count": 83
        }
      ]
    },
    {
      "cell_type": "code",
      "source": [
        "df.shape"
      ],
      "metadata": {
        "colab": {
          "base_uri": "https://localhost:8080/"
        },
        "id": "9_mrCnTsQ5ui",
        "outputId": "36a4f4e4-25b3-4b4e-9eef-571699ceb98b"
      },
      "execution_count": 84,
      "outputs": [
        {
          "output_type": "execute_result",
          "data": {
            "text/plain": [
              "(8192, 11)"
            ]
          },
          "metadata": {},
          "execution_count": 84
        }
      ]
    },
    {
      "cell_type": "markdown",
      "source": [
        "# <b> Step 1"
      ],
      "metadata": {
        "id": "vL2gbO0v6o06"
      }
    },
    {
      "cell_type": "markdown",
      "source": [
        "# Shamsi to Miladi (Gregorian)"
      ],
      "metadata": {
        "id": "TThDM0hjr-HA"
      }
    },
    {
      "cell_type": "code",
      "source": [
        "def shamsi_to_miladi(shamsi_date):\n",
        "    year, month, day = map(int, shamsi_date.split('-'))\n",
        "    jalali_date = jdatetime.date(year, month, day)\n",
        "    miladi_date = jalali_date.togregorian()\n",
        "    return miladi_date"
      ],
      "metadata": {
        "id": "wXZfRFYFRQRw"
      },
      "execution_count": 85,
      "outputs": []
    },
    {
      "cell_type": "code",
      "source": [
        "df['transaction_date_miladi'] = df['transaction_date'].apply(shamsi_to_miladi)"
      ],
      "metadata": {
        "id": "__Q_FEn4opbF"
      },
      "execution_count": 86,
      "outputs": []
    },
    {
      "cell_type": "code",
      "source": [
        "df['transaction_date_miladi']"
      ],
      "metadata": {
        "colab": {
          "base_uri": "https://localhost:8080/",
          "height": 458
        },
        "id": "bwnzmw3lrW7t",
        "outputId": "f37ad51b-8029-4f64-e567-4388ea7330e7"
      },
      "execution_count": 87,
      "outputs": [
        {
          "output_type": "execute_result",
          "data": {
            "text/plain": [
              "0       2024-03-20\n",
              "1       2024-03-21\n",
              "2       2024-03-22\n",
              "3       2024-03-22\n",
              "4       2024-03-23\n",
              "           ...    \n",
              "8187    2024-10-16\n",
              "8188    2024-10-18\n",
              "8189    2024-10-18\n",
              "8190    2024-10-18\n",
              "8191    2024-10-20\n",
              "Name: transaction_date_miladi, Length: 8192, dtype: object"
            ],
            "text/html": [
              "<div>\n",
              "<style scoped>\n",
              "    .dataframe tbody tr th:only-of-type {\n",
              "        vertical-align: middle;\n",
              "    }\n",
              "\n",
              "    .dataframe tbody tr th {\n",
              "        vertical-align: top;\n",
              "    }\n",
              "\n",
              "    .dataframe thead th {\n",
              "        text-align: right;\n",
              "    }\n",
              "</style>\n",
              "<table border=\"1\" class=\"dataframe\">\n",
              "  <thead>\n",
              "    <tr style=\"text-align: right;\">\n",
              "      <th></th>\n",
              "      <th>transaction_date_miladi</th>\n",
              "    </tr>\n",
              "  </thead>\n",
              "  <tbody>\n",
              "    <tr>\n",
              "      <th>0</th>\n",
              "      <td>2024-03-20</td>\n",
              "    </tr>\n",
              "    <tr>\n",
              "      <th>1</th>\n",
              "      <td>2024-03-21</td>\n",
              "    </tr>\n",
              "    <tr>\n",
              "      <th>2</th>\n",
              "      <td>2024-03-22</td>\n",
              "    </tr>\n",
              "    <tr>\n",
              "      <th>3</th>\n",
              "      <td>2024-03-22</td>\n",
              "    </tr>\n",
              "    <tr>\n",
              "      <th>4</th>\n",
              "      <td>2024-03-23</td>\n",
              "    </tr>\n",
              "    <tr>\n",
              "      <th>...</th>\n",
              "      <td>...</td>\n",
              "    </tr>\n",
              "    <tr>\n",
              "      <th>8187</th>\n",
              "      <td>2024-10-16</td>\n",
              "    </tr>\n",
              "    <tr>\n",
              "      <th>8188</th>\n",
              "      <td>2024-10-18</td>\n",
              "    </tr>\n",
              "    <tr>\n",
              "      <th>8189</th>\n",
              "      <td>2024-10-18</td>\n",
              "    </tr>\n",
              "    <tr>\n",
              "      <th>8190</th>\n",
              "      <td>2024-10-18</td>\n",
              "    </tr>\n",
              "    <tr>\n",
              "      <th>8191</th>\n",
              "      <td>2024-10-20</td>\n",
              "    </tr>\n",
              "  </tbody>\n",
              "</table>\n",
              "<p>8192 rows × 1 columns</p>\n",
              "</div><br><label><b>dtype:</b> object</label>"
            ]
          },
          "metadata": {},
          "execution_count": 87
        }
      ]
    },
    {
      "cell_type": "code",
      "source": [
        "df.drop(columns=['transaction_date'], inplace=True)"
      ],
      "metadata": {
        "id": "kuGrWjwZvwpJ"
      },
      "execution_count": 88,
      "outputs": []
    },
    {
      "cell_type": "code",
      "source": [
        "df"
      ],
      "metadata": {
        "colab": {
          "base_uri": "https://localhost:8080/",
          "height": 423
        },
        "id": "yZIXsMqgvyxi",
        "outputId": "44ed7ace-cf65-4d99-dbc2-726923704dc5"
      },
      "execution_count": 89,
      "outputs": [
        {
          "output_type": "execute_result",
          "data": {
            "text/plain": [
              "      user_id  transaction_id transaction_time              store  \\\n",
              "0           1               1         23:38:58      Jewelry Store   \n",
              "1           1               2         16:41:29  Electronics Store   \n",
              "2           1               3         07:45:32    Cosmetics Store   \n",
              "3           1               3         07:45:32    Cosmetics Store   \n",
              "4           1               4         15:22:12     Hardware Store   \n",
              "...       ...             ...              ...                ...   \n",
              "8187       12             306         13:23:31        Supermarket   \n",
              "8188       12             307         08:10:55        Music Store   \n",
              "8189       12             307         08:10:55        Music Store   \n",
              "8190       12             308         22:01:02    Cosmetics Store   \n",
              "8191       12             309         06:45:30          Toy Store   \n",
              "\n",
              "                      product_name  quantity  unit_price  total_price  \\\n",
              "0         Jewelry Store Product 38         1  1658456.89   1658456.89   \n",
              "1     Electronics Store Product 82         1  1462060.36   1462060.36   \n",
              "2       Cosmetics Store Product 26         1   105516.10    105516.10   \n",
              "3       Cosmetics Store Product 17         1   217517.33    217517.33   \n",
              "4        Hardware Store Product 40         1  1949500.13   1949500.13   \n",
              "...                            ...       ...         ...          ...   \n",
              "8187       Supermarket Product 125         7    44641.46    312490.22   \n",
              "8188        Music Store Product 10         4    71906.99    287627.96   \n",
              "8189        Music Store Product 34         1   116998.80    116998.80   \n",
              "8190    Cosmetics Store Product 13         9   445439.80   4008958.20   \n",
              "8191          Toy Store Product 31         1   211152.00    211152.00   \n",
              "\n",
              "      total_amount  total_items transaction_date_miladi  \n",
              "0       1658456.89            1              2024-03-20  \n",
              "1       1462060.36            1              2024-03-21  \n",
              "2        323033.43            2              2024-03-22  \n",
              "3        323033.43            2              2024-03-22  \n",
              "4       6191593.89            6              2024-03-23  \n",
              "...            ...          ...                     ...  \n",
              "8187    1712890.34           31              2024-10-16  \n",
              "8188     404626.76            5              2024-10-18  \n",
              "8189     404626.76            5              2024-10-18  \n",
              "8190    4008958.20            9              2024-10-18  \n",
              "8191     211152.00            1              2024-10-20  \n",
              "\n",
              "[8192 rows x 11 columns]"
            ],
            "text/html": [
              "\n",
              "  <div id=\"df-62c35515-8d71-4887-abf7-2edbc4af5dc1\" class=\"colab-df-container\">\n",
              "    <div>\n",
              "<style scoped>\n",
              "    .dataframe tbody tr th:only-of-type {\n",
              "        vertical-align: middle;\n",
              "    }\n",
              "\n",
              "    .dataframe tbody tr th {\n",
              "        vertical-align: top;\n",
              "    }\n",
              "\n",
              "    .dataframe thead th {\n",
              "        text-align: right;\n",
              "    }\n",
              "</style>\n",
              "<table border=\"1\" class=\"dataframe\">\n",
              "  <thead>\n",
              "    <tr style=\"text-align: right;\">\n",
              "      <th></th>\n",
              "      <th>user_id</th>\n",
              "      <th>transaction_id</th>\n",
              "      <th>transaction_time</th>\n",
              "      <th>store</th>\n",
              "      <th>product_name</th>\n",
              "      <th>quantity</th>\n",
              "      <th>unit_price</th>\n",
              "      <th>total_price</th>\n",
              "      <th>total_amount</th>\n",
              "      <th>total_items</th>\n",
              "      <th>transaction_date_miladi</th>\n",
              "    </tr>\n",
              "  </thead>\n",
              "  <tbody>\n",
              "    <tr>\n",
              "      <th>0</th>\n",
              "      <td>1</td>\n",
              "      <td>1</td>\n",
              "      <td>23:38:58</td>\n",
              "      <td>Jewelry Store</td>\n",
              "      <td>Jewelry Store Product 38</td>\n",
              "      <td>1</td>\n",
              "      <td>1658456.89</td>\n",
              "      <td>1658456.89</td>\n",
              "      <td>1658456.89</td>\n",
              "      <td>1</td>\n",
              "      <td>2024-03-20</td>\n",
              "    </tr>\n",
              "    <tr>\n",
              "      <th>1</th>\n",
              "      <td>1</td>\n",
              "      <td>2</td>\n",
              "      <td>16:41:29</td>\n",
              "      <td>Electronics Store</td>\n",
              "      <td>Electronics Store Product 82</td>\n",
              "      <td>1</td>\n",
              "      <td>1462060.36</td>\n",
              "      <td>1462060.36</td>\n",
              "      <td>1462060.36</td>\n",
              "      <td>1</td>\n",
              "      <td>2024-03-21</td>\n",
              "    </tr>\n",
              "    <tr>\n",
              "      <th>2</th>\n",
              "      <td>1</td>\n",
              "      <td>3</td>\n",
              "      <td>07:45:32</td>\n",
              "      <td>Cosmetics Store</td>\n",
              "      <td>Cosmetics Store Product 26</td>\n",
              "      <td>1</td>\n",
              "      <td>105516.10</td>\n",
              "      <td>105516.10</td>\n",
              "      <td>323033.43</td>\n",
              "      <td>2</td>\n",
              "      <td>2024-03-22</td>\n",
              "    </tr>\n",
              "    <tr>\n",
              "      <th>3</th>\n",
              "      <td>1</td>\n",
              "      <td>3</td>\n",
              "      <td>07:45:32</td>\n",
              "      <td>Cosmetics Store</td>\n",
              "      <td>Cosmetics Store Product 17</td>\n",
              "      <td>1</td>\n",
              "      <td>217517.33</td>\n",
              "      <td>217517.33</td>\n",
              "      <td>323033.43</td>\n",
              "      <td>2</td>\n",
              "      <td>2024-03-22</td>\n",
              "    </tr>\n",
              "    <tr>\n",
              "      <th>4</th>\n",
              "      <td>1</td>\n",
              "      <td>4</td>\n",
              "      <td>15:22:12</td>\n",
              "      <td>Hardware Store</td>\n",
              "      <td>Hardware Store Product 40</td>\n",
              "      <td>1</td>\n",
              "      <td>1949500.13</td>\n",
              "      <td>1949500.13</td>\n",
              "      <td>6191593.89</td>\n",
              "      <td>6</td>\n",
              "      <td>2024-03-23</td>\n",
              "    </tr>\n",
              "    <tr>\n",
              "      <th>...</th>\n",
              "      <td>...</td>\n",
              "      <td>...</td>\n",
              "      <td>...</td>\n",
              "      <td>...</td>\n",
              "      <td>...</td>\n",
              "      <td>...</td>\n",
              "      <td>...</td>\n",
              "      <td>...</td>\n",
              "      <td>...</td>\n",
              "      <td>...</td>\n",
              "      <td>...</td>\n",
              "    </tr>\n",
              "    <tr>\n",
              "      <th>8187</th>\n",
              "      <td>12</td>\n",
              "      <td>306</td>\n",
              "      <td>13:23:31</td>\n",
              "      <td>Supermarket</td>\n",
              "      <td>Supermarket Product 125</td>\n",
              "      <td>7</td>\n",
              "      <td>44641.46</td>\n",
              "      <td>312490.22</td>\n",
              "      <td>1712890.34</td>\n",
              "      <td>31</td>\n",
              "      <td>2024-10-16</td>\n",
              "    </tr>\n",
              "    <tr>\n",
              "      <th>8188</th>\n",
              "      <td>12</td>\n",
              "      <td>307</td>\n",
              "      <td>08:10:55</td>\n",
              "      <td>Music Store</td>\n",
              "      <td>Music Store Product 10</td>\n",
              "      <td>4</td>\n",
              "      <td>71906.99</td>\n",
              "      <td>287627.96</td>\n",
              "      <td>404626.76</td>\n",
              "      <td>5</td>\n",
              "      <td>2024-10-18</td>\n",
              "    </tr>\n",
              "    <tr>\n",
              "      <th>8189</th>\n",
              "      <td>12</td>\n",
              "      <td>307</td>\n",
              "      <td>08:10:55</td>\n",
              "      <td>Music Store</td>\n",
              "      <td>Music Store Product 34</td>\n",
              "      <td>1</td>\n",
              "      <td>116998.80</td>\n",
              "      <td>116998.80</td>\n",
              "      <td>404626.76</td>\n",
              "      <td>5</td>\n",
              "      <td>2024-10-18</td>\n",
              "    </tr>\n",
              "    <tr>\n",
              "      <th>8190</th>\n",
              "      <td>12</td>\n",
              "      <td>308</td>\n",
              "      <td>22:01:02</td>\n",
              "      <td>Cosmetics Store</td>\n",
              "      <td>Cosmetics Store Product 13</td>\n",
              "      <td>9</td>\n",
              "      <td>445439.80</td>\n",
              "      <td>4008958.20</td>\n",
              "      <td>4008958.20</td>\n",
              "      <td>9</td>\n",
              "      <td>2024-10-18</td>\n",
              "    </tr>\n",
              "    <tr>\n",
              "      <th>8191</th>\n",
              "      <td>12</td>\n",
              "      <td>309</td>\n",
              "      <td>06:45:30</td>\n",
              "      <td>Toy Store</td>\n",
              "      <td>Toy Store Product 31</td>\n",
              "      <td>1</td>\n",
              "      <td>211152.00</td>\n",
              "      <td>211152.00</td>\n",
              "      <td>211152.00</td>\n",
              "      <td>1</td>\n",
              "      <td>2024-10-20</td>\n",
              "    </tr>\n",
              "  </tbody>\n",
              "</table>\n",
              "<p>8192 rows × 11 columns</p>\n",
              "</div>\n",
              "    <div class=\"colab-df-buttons\">\n",
              "\n",
              "  <div class=\"colab-df-container\">\n",
              "    <button class=\"colab-df-convert\" onclick=\"convertToInteractive('df-62c35515-8d71-4887-abf7-2edbc4af5dc1')\"\n",
              "            title=\"Convert this dataframe to an interactive table.\"\n",
              "            style=\"display:none;\">\n",
              "\n",
              "  <svg xmlns=\"http://www.w3.org/2000/svg\" height=\"24px\" viewBox=\"0 -960 960 960\">\n",
              "    <path d=\"M120-120v-720h720v720H120Zm60-500h600v-160H180v160Zm220 220h160v-160H400v160Zm0 220h160v-160H400v160ZM180-400h160v-160H180v160Zm440 0h160v-160H620v160ZM180-180h160v-160H180v160Zm440 0h160v-160H620v160Z\"/>\n",
              "  </svg>\n",
              "    </button>\n",
              "\n",
              "  <style>\n",
              "    .colab-df-container {\n",
              "      display:flex;\n",
              "      gap: 12px;\n",
              "    }\n",
              "\n",
              "    .colab-df-convert {\n",
              "      background-color: #E8F0FE;\n",
              "      border: none;\n",
              "      border-radius: 50%;\n",
              "      cursor: pointer;\n",
              "      display: none;\n",
              "      fill: #1967D2;\n",
              "      height: 32px;\n",
              "      padding: 0 0 0 0;\n",
              "      width: 32px;\n",
              "    }\n",
              "\n",
              "    .colab-df-convert:hover {\n",
              "      background-color: #E2EBFA;\n",
              "      box-shadow: 0px 1px 2px rgba(60, 64, 67, 0.3), 0px 1px 3px 1px rgba(60, 64, 67, 0.15);\n",
              "      fill: #174EA6;\n",
              "    }\n",
              "\n",
              "    .colab-df-buttons div {\n",
              "      margin-bottom: 4px;\n",
              "    }\n",
              "\n",
              "    [theme=dark] .colab-df-convert {\n",
              "      background-color: #3B4455;\n",
              "      fill: #D2E3FC;\n",
              "    }\n",
              "\n",
              "    [theme=dark] .colab-df-convert:hover {\n",
              "      background-color: #434B5C;\n",
              "      box-shadow: 0px 1px 3px 1px rgba(0, 0, 0, 0.15);\n",
              "      filter: drop-shadow(0px 1px 2px rgba(0, 0, 0, 0.3));\n",
              "      fill: #FFFFFF;\n",
              "    }\n",
              "  </style>\n",
              "\n",
              "    <script>\n",
              "      const buttonEl =\n",
              "        document.querySelector('#df-62c35515-8d71-4887-abf7-2edbc4af5dc1 button.colab-df-convert');\n",
              "      buttonEl.style.display =\n",
              "        google.colab.kernel.accessAllowed ? 'block' : 'none';\n",
              "\n",
              "      async function convertToInteractive(key) {\n",
              "        const element = document.querySelector('#df-62c35515-8d71-4887-abf7-2edbc4af5dc1');\n",
              "        const dataTable =\n",
              "          await google.colab.kernel.invokeFunction('convertToInteractive',\n",
              "                                                    [key], {});\n",
              "        if (!dataTable) return;\n",
              "\n",
              "        const docLinkHtml = 'Like what you see? Visit the ' +\n",
              "          '<a target=\"_blank\" href=https://colab.research.google.com/notebooks/data_table.ipynb>data table notebook</a>'\n",
              "          + ' to learn more about interactive tables.';\n",
              "        element.innerHTML = '';\n",
              "        dataTable['output_type'] = 'display_data';\n",
              "        await google.colab.output.renderOutput(dataTable, element);\n",
              "        const docLink = document.createElement('div');\n",
              "        docLink.innerHTML = docLinkHtml;\n",
              "        element.appendChild(docLink);\n",
              "      }\n",
              "    </script>\n",
              "  </div>\n",
              "\n",
              "\n",
              "<div id=\"df-7a9a4775-b123-46da-a848-f794f2c3bcbd\">\n",
              "  <button class=\"colab-df-quickchart\" onclick=\"quickchart('df-7a9a4775-b123-46da-a848-f794f2c3bcbd')\"\n",
              "            title=\"Suggest charts\"\n",
              "            style=\"display:none;\">\n",
              "\n",
              "<svg xmlns=\"http://www.w3.org/2000/svg\" height=\"24px\"viewBox=\"0 0 24 24\"\n",
              "     width=\"24px\">\n",
              "    <g>\n",
              "        <path d=\"M19 3H5c-1.1 0-2 .9-2 2v14c0 1.1.9 2 2 2h14c1.1 0 2-.9 2-2V5c0-1.1-.9-2-2-2zM9 17H7v-7h2v7zm4 0h-2V7h2v10zm4 0h-2v-4h2v4z\"/>\n",
              "    </g>\n",
              "</svg>\n",
              "  </button>\n",
              "\n",
              "<style>\n",
              "  .colab-df-quickchart {\n",
              "      --bg-color: #E8F0FE;\n",
              "      --fill-color: #1967D2;\n",
              "      --hover-bg-color: #E2EBFA;\n",
              "      --hover-fill-color: #174EA6;\n",
              "      --disabled-fill-color: #AAA;\n",
              "      --disabled-bg-color: #DDD;\n",
              "  }\n",
              "\n",
              "  [theme=dark] .colab-df-quickchart {\n",
              "      --bg-color: #3B4455;\n",
              "      --fill-color: #D2E3FC;\n",
              "      --hover-bg-color: #434B5C;\n",
              "      --hover-fill-color: #FFFFFF;\n",
              "      --disabled-bg-color: #3B4455;\n",
              "      --disabled-fill-color: #666;\n",
              "  }\n",
              "\n",
              "  .colab-df-quickchart {\n",
              "    background-color: var(--bg-color);\n",
              "    border: none;\n",
              "    border-radius: 50%;\n",
              "    cursor: pointer;\n",
              "    display: none;\n",
              "    fill: var(--fill-color);\n",
              "    height: 32px;\n",
              "    padding: 0;\n",
              "    width: 32px;\n",
              "  }\n",
              "\n",
              "  .colab-df-quickchart:hover {\n",
              "    background-color: var(--hover-bg-color);\n",
              "    box-shadow: 0 1px 2px rgba(60, 64, 67, 0.3), 0 1px 3px 1px rgba(60, 64, 67, 0.15);\n",
              "    fill: var(--button-hover-fill-color);\n",
              "  }\n",
              "\n",
              "  .colab-df-quickchart-complete:disabled,\n",
              "  .colab-df-quickchart-complete:disabled:hover {\n",
              "    background-color: var(--disabled-bg-color);\n",
              "    fill: var(--disabled-fill-color);\n",
              "    box-shadow: none;\n",
              "  }\n",
              "\n",
              "  .colab-df-spinner {\n",
              "    border: 2px solid var(--fill-color);\n",
              "    border-color: transparent;\n",
              "    border-bottom-color: var(--fill-color);\n",
              "    animation:\n",
              "      spin 1s steps(1) infinite;\n",
              "  }\n",
              "\n",
              "  @keyframes spin {\n",
              "    0% {\n",
              "      border-color: transparent;\n",
              "      border-bottom-color: var(--fill-color);\n",
              "      border-left-color: var(--fill-color);\n",
              "    }\n",
              "    20% {\n",
              "      border-color: transparent;\n",
              "      border-left-color: var(--fill-color);\n",
              "      border-top-color: var(--fill-color);\n",
              "    }\n",
              "    30% {\n",
              "      border-color: transparent;\n",
              "      border-left-color: var(--fill-color);\n",
              "      border-top-color: var(--fill-color);\n",
              "      border-right-color: var(--fill-color);\n",
              "    }\n",
              "    40% {\n",
              "      border-color: transparent;\n",
              "      border-right-color: var(--fill-color);\n",
              "      border-top-color: var(--fill-color);\n",
              "    }\n",
              "    60% {\n",
              "      border-color: transparent;\n",
              "      border-right-color: var(--fill-color);\n",
              "    }\n",
              "    80% {\n",
              "      border-color: transparent;\n",
              "      border-right-color: var(--fill-color);\n",
              "      border-bottom-color: var(--fill-color);\n",
              "    }\n",
              "    90% {\n",
              "      border-color: transparent;\n",
              "      border-bottom-color: var(--fill-color);\n",
              "    }\n",
              "  }\n",
              "</style>\n",
              "\n",
              "  <script>\n",
              "    async function quickchart(key) {\n",
              "      const quickchartButtonEl =\n",
              "        document.querySelector('#' + key + ' button');\n",
              "      quickchartButtonEl.disabled = true;  // To prevent multiple clicks.\n",
              "      quickchartButtonEl.classList.add('colab-df-spinner');\n",
              "      try {\n",
              "        const charts = await google.colab.kernel.invokeFunction(\n",
              "            'suggestCharts', [key], {});\n",
              "      } catch (error) {\n",
              "        console.error('Error during call to suggestCharts:', error);\n",
              "      }\n",
              "      quickchartButtonEl.classList.remove('colab-df-spinner');\n",
              "      quickchartButtonEl.classList.add('colab-df-quickchart-complete');\n",
              "    }\n",
              "    (() => {\n",
              "      let quickchartButtonEl =\n",
              "        document.querySelector('#df-7a9a4775-b123-46da-a848-f794f2c3bcbd button');\n",
              "      quickchartButtonEl.style.display =\n",
              "        google.colab.kernel.accessAllowed ? 'block' : 'none';\n",
              "    })();\n",
              "  </script>\n",
              "</div>\n",
              "\n",
              "  <div id=\"id_0ceb694b-58c9-47d5-bdce-93d30d9f9f30\">\n",
              "    <style>\n",
              "      .colab-df-generate {\n",
              "        background-color: #E8F0FE;\n",
              "        border: none;\n",
              "        border-radius: 50%;\n",
              "        cursor: pointer;\n",
              "        display: none;\n",
              "        fill: #1967D2;\n",
              "        height: 32px;\n",
              "        padding: 0 0 0 0;\n",
              "        width: 32px;\n",
              "      }\n",
              "\n",
              "      .colab-df-generate:hover {\n",
              "        background-color: #E2EBFA;\n",
              "        box-shadow: 0px 1px 2px rgba(60, 64, 67, 0.3), 0px 1px 3px 1px rgba(60, 64, 67, 0.15);\n",
              "        fill: #174EA6;\n",
              "      }\n",
              "\n",
              "      [theme=dark] .colab-df-generate {\n",
              "        background-color: #3B4455;\n",
              "        fill: #D2E3FC;\n",
              "      }\n",
              "\n",
              "      [theme=dark] .colab-df-generate:hover {\n",
              "        background-color: #434B5C;\n",
              "        box-shadow: 0px 1px 3px 1px rgba(0, 0, 0, 0.15);\n",
              "        filter: drop-shadow(0px 1px 2px rgba(0, 0, 0, 0.3));\n",
              "        fill: #FFFFFF;\n",
              "      }\n",
              "    </style>\n",
              "    <button class=\"colab-df-generate\" onclick=\"generateWithVariable('df')\"\n",
              "            title=\"Generate code using this dataframe.\"\n",
              "            style=\"display:none;\">\n",
              "\n",
              "  <svg xmlns=\"http://www.w3.org/2000/svg\" height=\"24px\"viewBox=\"0 0 24 24\"\n",
              "       width=\"24px\">\n",
              "    <path d=\"M7,19H8.4L18.45,9,17,7.55,7,17.6ZM5,21V16.75L18.45,3.32a2,2,0,0,1,2.83,0l1.4,1.43a1.91,1.91,0,0,1,.58,1.4,1.91,1.91,0,0,1-.58,1.4L9.25,21ZM18.45,9,17,7.55Zm-12,3A5.31,5.31,0,0,0,4.9,8.1,5.31,5.31,0,0,0,1,6.5,5.31,5.31,0,0,0,4.9,4.9,5.31,5.31,0,0,0,6.5,1,5.31,5.31,0,0,0,8.1,4.9,5.31,5.31,0,0,0,12,6.5,5.46,5.46,0,0,0,6.5,12Z\"/>\n",
              "  </svg>\n",
              "    </button>\n",
              "    <script>\n",
              "      (() => {\n",
              "      const buttonEl =\n",
              "        document.querySelector('#id_0ceb694b-58c9-47d5-bdce-93d30d9f9f30 button.colab-df-generate');\n",
              "      buttonEl.style.display =\n",
              "        google.colab.kernel.accessAllowed ? 'block' : 'none';\n",
              "\n",
              "      buttonEl.onclick = () => {\n",
              "        google.colab.notebook.generateWithVariable('df');\n",
              "      }\n",
              "      })();\n",
              "    </script>\n",
              "  </div>\n",
              "\n",
              "    </div>\n",
              "  </div>\n"
            ],
            "application/vnd.google.colaboratory.intrinsic+json": {
              "type": "dataframe",
              "variable_name": "df",
              "summary": "{\n  \"name\": \"df\",\n  \"rows\": 8192,\n  \"fields\": [\n    {\n      \"column\": \"user_id\",\n      \"properties\": {\n        \"dtype\": \"number\",\n        \"std\": 3,\n        \"min\": 1,\n        \"max\": 12,\n        \"num_unique_values\": 12,\n        \"samples\": [\n          11,\n          10,\n          1\n        ],\n        \"semantic_type\": \"\",\n        \"description\": \"\"\n      }\n    },\n    {\n      \"column\": \"transaction_id\",\n      \"properties\": {\n        \"dtype\": \"number\",\n        \"std\": 93,\n        \"min\": 1,\n        \"max\": 348,\n        \"num_unique_values\": 348,\n        \"samples\": [\n          256,\n          115,\n          315\n        ],\n        \"semantic_type\": \"\",\n        \"description\": \"\"\n      }\n    },\n    {\n      \"column\": \"transaction_time\",\n      \"properties\": {\n        \"dtype\": \"object\",\n        \"num_unique_values\": 3762,\n        \"samples\": [\n          \"21:27:34\",\n          \"22:02:17\",\n          \"20:19:33\"\n        ],\n        \"semantic_type\": \"\",\n        \"description\": \"\"\n      }\n    },\n    {\n      \"column\": \"store\",\n      \"properties\": {\n        \"dtype\": \"category\",\n        \"num_unique_values\": 15,\n        \"samples\": [\n          \"Supermarket\",\n          \"Furniture Store\",\n          \"Jewelry Store\"\n        ],\n        \"semantic_type\": \"\",\n        \"description\": \"\"\n      }\n    },\n    {\n      \"column\": \"product_name\",\n      \"properties\": {\n        \"dtype\": \"category\",\n        \"num_unique_values\": 1446,\n        \"samples\": [\n          \"Electronics Store Product 65\",\n          \"Florist Store Product 36\",\n          \"Chain Store Product 180\"\n        ],\n        \"semantic_type\": \"\",\n        \"description\": \"\"\n      }\n    },\n    {\n      \"column\": \"quantity\",\n      \"properties\": {\n        \"dtype\": \"number\",\n        \"std\": 3,\n        \"min\": 1,\n        \"max\": 48,\n        \"num_unique_values\": 44,\n        \"samples\": [\n          37,\n          19,\n          45\n        ],\n        \"semantic_type\": \"\",\n        \"description\": \"\"\n      }\n    },\n    {\n      \"column\": \"unit_price\",\n      \"properties\": {\n        \"dtype\": \"number\",\n        \"std\": 6191959.213268399,\n        \"min\": 5013.1,\n        \"max\": 49994509.86,\n        \"num_unique_values\": 8192,\n        \"samples\": [\n          175696.92,\n          867110.23,\n          41700.16\n        ],\n        \"semantic_type\": \"\",\n        \"description\": \"\"\n      }\n    },\n    {\n      \"column\": \"total_price\",\n      \"properties\": {\n        \"dtype\": \"number\",\n        \"std\": 9584928.924576974,\n        \"min\": 5035.48,\n        \"max\": 140641114.2,\n        \"num_unique_values\": 8192,\n        \"samples\": [\n          527090.76,\n          867110.23,\n          41700.16\n        ],\n        \"semantic_type\": \"\",\n        \"description\": \"\"\n      }\n    },\n    {\n      \"column\": \"total_amount\",\n      \"properties\": {\n        \"dtype\": \"number\",\n        \"std\": 13930222.221078856,\n        \"min\": 7839.93,\n        \"max\": 140641114.2,\n        \"num_unique_values\": 3842,\n        \"samples\": [\n          2028671.58,\n          283266.19,\n          1790669.53\n        ],\n        \"semantic_type\": \"\",\n        \"description\": \"\"\n      }\n    },\n    {\n      \"column\": \"total_items\",\n      \"properties\": {\n        \"dtype\": \"number\",\n        \"std\": 9,\n        \"min\": 1,\n        \"max\": 50,\n        \"num_unique_values\": 50,\n        \"samples\": [\n          9,\n          45,\n          37\n        ],\n        \"semantic_type\": \"\",\n        \"description\": \"\"\n      }\n    },\n    {\n      \"column\": \"transaction_date_miladi\",\n      \"properties\": {\n        \"dtype\": \"date\",\n        \"min\": \"2024-03-20\",\n        \"max\": \"2024-10-20\",\n        \"num_unique_values\": 215,\n        \"samples\": [\n          \"2024-10-13\",\n          \"2024-04-23\",\n          \"2024-09-25\"\n        ],\n        \"semantic_type\": \"\",\n        \"description\": \"\"\n      }\n    }\n  ]\n}"
            }
          },
          "metadata": {},
          "execution_count": 89
        }
      ]
    },
    {
      "cell_type": "markdown",
      "source": [
        "# Pre-processing"
      ],
      "metadata": {
        "id": "Q0QEwsMTxEer"
      }
    },
    {
      "cell_type": "code",
      "source": [
        "df = df.dropna(subset=['transaction_date_miladi', 'transaction_time'])"
      ],
      "metadata": {
        "id": "eu4vDyUEw7Ry"
      },
      "execution_count": 90,
      "outputs": []
    },
    {
      "cell_type": "code",
      "source": [
        "df['transaction_date_miladi'] = df['transaction_date_miladi'].astype(str)"
      ],
      "metadata": {
        "id": "TP7YZyKVyVfR"
      },
      "execution_count": 91,
      "outputs": []
    },
    {
      "cell_type": "code",
      "source": [
        "df['datetime'] = pd.to_datetime(df['transaction_date_miladi'] + ' ' + df['transaction_time'])"
      ],
      "metadata": {
        "id": "FLziprZJtwrp"
      },
      "execution_count": 92,
      "outputs": []
    },
    {
      "cell_type": "code",
      "source": [
        "df['day_of_week'] = df['datetime'].dt.day_name()\n",
        "df['hour'] = df['datetime'].dt.hour"
      ],
      "metadata": {
        "id": "IiIt2AmtypRJ"
      },
      "execution_count": 93,
      "outputs": []
    },
    {
      "cell_type": "markdown",
      "source": [
        "# Analysis by day of the week"
      ],
      "metadata": {
        "id": "cTNJdOc50fzR"
      }
    },
    {
      "cell_type": "code",
      "source": [
        "transactions_by_day = df['day_of_week'].value_counts().sort_index()\n",
        "print(\"Number of transactions per day of the week:\")\n",
        "print(transactions_by_day)\n",
        "transactions_by_day.plot(kind='bar', title='Number of transactions per day of the week')\n",
        "plt.xlabel('Week')\n",
        "plt.ylabel('Number of transactions')\n",
        "plt.show()"
      ],
      "metadata": {
        "colab": {
          "base_uri": "https://localhost:8080/",
          "height": 720
        },
        "id": "w4gMgXWoytgI",
        "outputId": "9e1bf0f5-9201-405b-a8bf-943e7472c0a3"
      },
      "execution_count": 94,
      "outputs": [
        {
          "output_type": "stream",
          "name": "stdout",
          "text": [
            "Number of transactions per day of the week:\n",
            "day_of_week\n",
            "Friday       1148\n",
            "Monday       1124\n",
            "Saturday     1320\n",
            "Sunday       1116\n",
            "Thursday     1080\n",
            "Tuesday      1164\n",
            "Wednesday    1240\n",
            "Name: count, dtype: int64\n"
          ]
        },
        {
          "output_type": "display_data",
          "data": {
            "text/plain": [
              "<Figure size 640x480 with 1 Axes>"
            ],
            "image/png": "[encoded data removed]"
          },
          "metadata": {}
        }
      ]
    },
    {
      "cell_type": "code",
      "source": [
        "busiest_day = transactions_by_day.idxmax()\n",
        "max_transactions_day = transactions_by_day.max()\n",
        "\n",
        "print(f\"The highest number of transactions, {max_transactions_day}, was made on {busiest_day}.\")\n"
      ],
      "metadata": {
        "colab": {
          "base_uri": "https://localhost:8080/"
        },
        "id": "rJbgTdWm1JJ5",
        "outputId": "16abdbce-e6d3-4166-8788-6a604a970c46"
      },
      "execution_count": 95,
      "outputs": [
        {
          "output_type": "stream",
          "name": "stdout",
          "text": [
            "The highest number of transactions, 1320, was made on Saturday.\n"
          ]
        }
      ]
    },
    {
      "cell_type": "markdown",
      "source": [
        "# Analysis based on time of day"
      ],
      "metadata": {
        "id": "IT2KMi0e0Zxc"
      }
    },
    {
      "cell_type": "code",
      "source": [
        "transactions_by_hour = df['hour'].value_counts().sort_index()\n",
        "print('Number of transactions per hour of the day:')\n",
        "print(transactions_by_hour)\n",
        "transactions_by_hour.plot(kind='bar', title='Number of transactions per hour of the day')\n",
        "plt.xlabel('Time')\n",
        "plt.ylabel('Number of transactions')\n",
        "plt.show()"
      ],
      "metadata": {
        "colab": {
          "base_uri": "https://localhost:8080/",
          "height": 967
        },
        "id": "rak5uYO9zwor",
        "outputId": "3d14d0e0-b74b-47d4-ef0c-e48a1084230d"
      },
      "execution_count": 96,
      "outputs": [
        {
          "output_type": "stream",
          "name": "stdout",
          "text": [
            "Number of transactions per hour of the day:\n",
            "hour\n",
            "0     362\n",
            "1     323\n",
            "2     355\n",
            "3     349\n",
            "4     360\n",
            "5     348\n",
            "6     383\n",
            "7     338\n",
            "8     307\n",
            "9     393\n",
            "10    299\n",
            "11    340\n",
            "12    349\n",
            "13    357\n",
            "14    300\n",
            "15    258\n",
            "16    311\n",
            "17    391\n",
            "18    328\n",
            "19    338\n",
            "20    320\n",
            "21    378\n",
            "22    348\n",
            "23    357\n",
            "Name: count, dtype: int64\n"
          ]
        },
        {
          "output_type": "display_data",
          "data": {
            "text/plain": [
              "<Figure size 640x480 with 1 Axes>"
            ],
            "image/png": "[encoded data removed]"
          },
          "metadata": {}
        }
      ]
    },
    {
      "cell_type": "code",
      "source": [
        "busiest_hour = transactions_by_hour.idxmax()\n",
        "max_transactions_hour = transactions_by_hour.max()\n",
        "\n",
        "print(f\"The highest number of transactions, {max_transactions_hour}, was made at {busiest_hour}.\")\n"
      ],
      "metadata": {
        "colab": {
          "base_uri": "https://localhost:8080/"
        },
        "id": "3pUqfWkH2UX2",
        "outputId": "c9b360f6-ea9a-4437-c463-f2caa3555e57"
      },
      "execution_count": 97,
      "outputs": [
        {
          "output_type": "stream",
          "name": "stdout",
          "text": [
            "The highest number of transactions, 393, was made at 9.\n"
          ]
        }
      ]
    },
    {
      "cell_type": "markdown",
      "source": [
        "<b> Q1. Is there a specific pattern when customers buy?</b><br>\n",
        "yes, <br>\n",
        "most transactions are done on Saturday. <br>\n",
        "most transactions are done at 9am."
      ],
      "metadata": {
        "id": "L_zBtFig30Y1"
      }
    },
    {
      "cell_type": "markdown",
      "source": [
        "# <b> Step 2"
      ],
      "metadata": {
        "id": "nS_0y33N6zTB"
      }
    },
    {
      "cell_type": "markdown",
      "source": [
        "# Pre-processing"
      ],
      "metadata": {
        "id": "iiBMP2Ro_nKx"
      }
    },
    {
      "cell_type": "code",
      "source": [
        "df = df.dropna(subset=['store', 'total_price'])"
      ],
      "metadata": {
        "id": "GVvlzSXn66-p"
      },
      "execution_count": 98,
      "outputs": []
    },
    {
      "cell_type": "markdown",
      "source": [
        "# Calculating total sales and sorting stores"
      ],
      "metadata": {
        "id": "DtO3u1wcF0Nt"
      }
    },
    {
      "cell_type": "code",
      "source": [
        "total_items_by_store = df.groupby('store')['total_price'].sum()\n",
        "total_items_by_store = total_items_by_store.sort_values(ascending=False)"
      ],
      "metadata": {
        "id": "cEJw3jCZAIpm"
      },
      "execution_count": 99,
      "outputs": []
    },
    {
      "cell_type": "markdown",
      "source": [
        "# Show top 10 stores with the highest sales"
      ],
      "metadata": {
        "id": "JQ0U9wYKGS2U"
      }
    },
    {
      "cell_type": "code",
      "source": [
        "print(\"Top ten stores with the most items sold:\")\n",
        "print(total_items_by_store.head(10))"
      ],
      "metadata": {
        "colab": {
          "base_uri": "https://localhost:8080/"
        },
        "id": "SACAK8O0Cl5j",
        "outputId": "76bd30fc-5b54-469f-ae91-4ffc3b08841d"
      },
      "execution_count": 100,
      "outputs": [
        {
          "output_type": "stream",
          "name": "stdout",
          "text": [
            "Top ten stores with the most items sold:\n",
            "store\n",
            "Jewelry Store           1.226038e+10\n",
            "Home Appliance Store    4.831257e+09\n",
            "Electronics Store       3.855097e+09\n",
            "Clothing Store          1.476769e+09\n",
            "Furniture Store         1.389610e+09\n",
            "Hardware Store          9.986125e+08\n",
            "Chain Store             8.477238e+08\n",
            "Sporting Goods Store    5.665938e+08\n",
            "Supermarket             3.942086e+08\n",
            "Toy Store               3.754816e+08\n",
            "Name: total_price, dtype: float64\n"
          ]
        }
      ]
    },
    {
      "cell_type": "code",
      "source": [
        "total_items_by_store.head(10).plot(kind='bar', title='Top ten stores with the most items sold')\n",
        "plt.xlabel('Store')\n",
        "plt.ylabel('Total price')\n",
        "plt.show()"
      ],
      "metadata": {
        "colab": {
          "base_uri": "https://localhost:8080/",
          "height": 613
        },
        "id": "KMX-o2AxDB5X",
        "outputId": "9490cc37-d095-439b-a0f8-eb17444c6ac4"
      },
      "execution_count": 101,
      "outputs": [
        {
          "output_type": "display_data",
          "data": {
            "text/plain": [
              "<Figure size 640x480 with 1 Axes>"
            ],
            "image/png": "[encoded data removed]"
          },
          "metadata": {}
        }
      ]
    },
    {
      "cell_type": "markdown",
      "source": [
        "<b> Q2. Which stores have the most sales?</b><br>\n",
        "Shown in order. The Jewelry Store also has the highest sales. <br>\n"
      ],
      "metadata": {
        "id": "KJWZsk6pFG_7"
      }
    },
    {
      "cell_type": "markdown",
      "source": [
        "# <b> Step 3"
      ],
      "metadata": {
        "id": "OzhMflIhFldl"
      }
    },
    {
      "cell_type": "markdown",
      "source": [
        "# Pre-processing"
      ],
      "metadata": {
        "id": "hls6a5eVIAoc"
      }
    },
    {
      "cell_type": "code",
      "source": [
        "df = df.dropna(subset=['product_name', 'quantity'])"
      ],
      "metadata": {
        "id": "s6J_wseEGV55"
      },
      "execution_count": 102,
      "outputs": []
    },
    {
      "cell_type": "markdown",
      "source": [
        "# Calculating total sales and sorting products"
      ],
      "metadata": {
        "id": "GUOpjaCqIisj"
      }
    },
    {
      "cell_type": "code",
      "source": [
        "total_quantity_by_product = df.groupby('product_name')['quantity'].sum()\n",
        "total_quantity_by_product = total_quantity_by_product.sort_values(ascending=False)"
      ],
      "metadata": {
        "id": "TQCuGP8yIaQL"
      },
      "execution_count": 103,
      "outputs": []
    },
    {
      "cell_type": "markdown",
      "source": [
        "# Show top 10 products with the highest sales"
      ],
      "metadata": {
        "id": "AzTtfCbuI3VF"
      }
    },
    {
      "cell_type": "code",
      "source": [
        "print(\"Top 10 products with the highest sales:\")\n",
        "print(total_quantity_by_product.head(10))"
      ],
      "metadata": {
        "colab": {
          "base_uri": "https://localhost:8080/"
        },
        "id": "YdTKoBgFI7hH",
        "outputId": "2fa1e16f-fb06-44ca-fc61-8e349ea77260"
      },
      "execution_count": 104,
      "outputs": [
        {
          "output_type": "stream",
          "name": "stdout",
          "text": [
            "Top 10 products with the highest sales:\n",
            "product_name\n",
            "Supermarket Product 16     140\n",
            "Supermarket Product 35     132\n",
            "Supermarket Product 97     118\n",
            "Supermarket Product 137    117\n",
            "Supermarket Product 154    110\n",
            "Supermarket Product 44     101\n",
            "Supermarket Product 155    101\n",
            "Supermarket Product 73     101\n",
            "Supermarket Product 30      98\n",
            "Supermarket Product 99      92\n",
            "Name: quantity, dtype: int64\n"
          ]
        }
      ]
    },
    {
      "cell_type": "code",
      "source": [
        "total_quantity_by_product.head(10).plot(kind='bar', title='Top 10 products with the highest sales')\n",
        "plt.xlabel('Product name')\n",
        "plt.ylabel('Number of sales')"
      ],
      "metadata": {
        "colab": {
          "base_uri": "https://localhost:8080/",
          "height": 654
        },
        "id": "WUv8_fH3JqIY",
        "outputId": "7f3474f0-862e-4d85-e345-391e5c78a071"
      },
      "execution_count": 105,
      "outputs": [
        {
          "output_type": "execute_result",
          "data": {
            "text/plain": [
              "Text(0, 0.5, 'Number of sales')"
            ]
          },
          "metadata": {},
          "execution_count": 105
        },
        {
          "output_type": "display_data",
          "data": {
            "text/plain": [
              "<Figure size 640x480 with 1 Axes>"
            ],
            "image/png": "[encoded data removed]"
          },
          "metadata": {}
        }
      ]
    },
    {
      "cell_type": "markdown",
      "source": [
        "<b> Q3. What are the best-selling products?</b><br>\n",
        "Shown in order. Supermarket Product 16 is also the best-selling product. <br>"
      ],
      "metadata": {
        "id": "PhioXAaMMwWr"
      }
    }
  ]
}